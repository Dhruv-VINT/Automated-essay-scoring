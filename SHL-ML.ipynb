{
 "cells": [
  {
   "cell_type": "code",
   "execution_count": 23,
   "id": "4fa63d96",
   "metadata": {},
   "outputs": [
    {
     "ename": "ModuleNotFoundError",
     "evalue": "No module named 'plotly'",
     "output_type": "error",
     "traceback": [
      "\u001b[1;31m---------------------------------------------------------------------------\u001b[0m",
      "\u001b[1;31mModuleNotFoundError\u001b[0m                       Traceback (most recent call last)",
      "\u001b[1;32m<ipython-input-23-a135a6f60560>\u001b[0m in \u001b[0;36m<module>\u001b[1;34m\u001b[0m\n\u001b[0;32m      4\u001b[0m \u001b[1;32mimport\u001b[0m \u001b[0mseaborn\u001b[0m \u001b[1;32mas\u001b[0m \u001b[0msns\u001b[0m\u001b[1;33m\u001b[0m\u001b[1;33m\u001b[0m\u001b[0m\n\u001b[0;32m      5\u001b[0m \u001b[1;32mimport\u001b[0m \u001b[0mmatplotlib\u001b[0m\u001b[1;33m.\u001b[0m\u001b[0mpyplot\u001b[0m \u001b[1;32mas\u001b[0m \u001b[0mplt\u001b[0m\u001b[1;33m\u001b[0m\u001b[1;33m\u001b[0m\u001b[0m\n\u001b[1;32m----> 6\u001b[1;33m \u001b[1;32mimport\u001b[0m \u001b[0mplotly\u001b[0m\u001b[1;33m.\u001b[0m\u001b[0mexpress\u001b[0m \u001b[1;32mas\u001b[0m \u001b[0mpx\u001b[0m\u001b[1;33m\u001b[0m\u001b[1;33m\u001b[0m\u001b[0m\n\u001b[0m\u001b[0;32m      7\u001b[0m \u001b[1;32mimport\u001b[0m \u001b[0mplotly\u001b[0m\u001b[1;33m.\u001b[0m\u001b[0mgraph_objs\u001b[0m \u001b[1;32mas\u001b[0m \u001b[0mgo\u001b[0m\u001b[1;33m\u001b[0m\u001b[1;33m\u001b[0m\u001b[0m\n\u001b[0;32m      8\u001b[0m \u001b[1;32mfrom\u001b[0m \u001b[0mplotly\u001b[0m\u001b[1;33m.\u001b[0m\u001b[0moffline\u001b[0m \u001b[1;32mimport\u001b[0m \u001b[0miplot\u001b[0m\u001b[1;33m\u001b[0m\u001b[1;33m\u001b[0m\u001b[0m\n",
      "\u001b[1;31mModuleNotFoundError\u001b[0m: No module named 'plotly'"
     ]
    }
   ],
   "source": [
    "import pandas as pd\n",
    "import numpy as np\n",
    "\n",
    "import seaborn as sns\n",
    "import matplotlib.pyplot as plt\n",
    "import plotly.express as px\n",
    "import plotly.graph_objs as go\n",
    "from plotly.offline import iplot"
   ]
  },
  {
   "cell_type": "code",
   "execution_count": 2,
   "id": "20603ae8",
   "metadata": {},
   "outputs": [],
   "source": [
    "train = pd.read_csv('train.csv')"
   ]
  },
  {
   "cell_type": "code",
   "execution_count": 3,
   "id": "1f0e99e8",
   "metadata": {},
   "outputs": [
    {
     "name": "stdout",
     "output_type": "stream",
     "text": [
      "      Unnamed: 0  promptId uniqueId  \\\n",
      "0              0         1    1_323   \n",
      "1              1         1    1_238   \n",
      "2              2         1    1_212   \n",
      "3              3         1    1_117   \n",
      "4              4         1    1_229   \n",
      "...          ...       ...      ...   \n",
      "1235        1235         5    5_419   \n",
      "1236        1236         5    5_420   \n",
      "1237        1237         5    5_421   \n",
      "1238        1238         5    5_422   \n",
      "1239        1239         5    5_423   \n",
      "\n",
      "                                                  essay  evaluator_rating  \n",
      "0     At present age, our education system is not go...               3.0  \n",
      "1     I am agree the tightly defined curriculum of o...               4.0  \n",
      "2     I strongly agree with the statement that tight...               2.0  \n",
      "3     Our education system is nice quitely but i dis...               2.0  \n",
      "4     i am totally agree with the statement that tig...               3.0  \n",
      "...                                                 ...               ...  \n",
      "1235  The entire world is in the race of producing a...               3.0  \n",
      "1236  The race in the development of weapons are pro...               2.5  \n",
      "1237  In an era where every second person hopes and ...               4.0  \n",
      "1238  INTRODUCTION :Since the beginning of the time ...               3.0  \n",
      "1239  \"To conquer a nation, first disarm its citizen...               4.5  \n",
      "\n",
      "[1240 rows x 5 columns]\n"
     ]
    }
   ],
   "source": [
    "print(train)"
   ]
  },
  {
   "cell_type": "code",
   "execution_count": 4,
   "id": "1808b927",
   "metadata": {},
   "outputs": [
    {
     "data": {
      "text/html": [
       "<div>\n",
       "<style scoped>\n",
       "    .dataframe tbody tr th:only-of-type {\n",
       "        vertical-align: middle;\n",
       "    }\n",
       "\n",
       "    .dataframe tbody tr th {\n",
       "        vertical-align: top;\n",
       "    }\n",
       "\n",
       "    .dataframe thead th {\n",
       "        text-align: right;\n",
       "    }\n",
       "</style>\n",
       "<table border=\"1\" class=\"dataframe\">\n",
       "  <thead>\n",
       "    <tr style=\"text-align: right;\">\n",
       "      <th></th>\n",
       "      <th>Unnamed: 0</th>\n",
       "      <th>promptId</th>\n",
       "      <th>uniqueId</th>\n",
       "      <th>essay</th>\n",
       "      <th>evaluator_rating</th>\n",
       "    </tr>\n",
       "  </thead>\n",
       "  <tbody>\n",
       "    <tr>\n",
       "      <th>0</th>\n",
       "      <td>0</td>\n",
       "      <td>1</td>\n",
       "      <td>1_323</td>\n",
       "      <td>At present age, our education system is not go...</td>\n",
       "      <td>3.0</td>\n",
       "    </tr>\n",
       "    <tr>\n",
       "      <th>1</th>\n",
       "      <td>1</td>\n",
       "      <td>1</td>\n",
       "      <td>1_238</td>\n",
       "      <td>I am agree the tightly defined curriculum of o...</td>\n",
       "      <td>4.0</td>\n",
       "    </tr>\n",
       "    <tr>\n",
       "      <th>2</th>\n",
       "      <td>2</td>\n",
       "      <td>1</td>\n",
       "      <td>1_212</td>\n",
       "      <td>I strongly agree with the statement that tight...</td>\n",
       "      <td>2.0</td>\n",
       "    </tr>\n",
       "    <tr>\n",
       "      <th>3</th>\n",
       "      <td>3</td>\n",
       "      <td>1</td>\n",
       "      <td>1_117</td>\n",
       "      <td>Our education system is nice quitely but i dis...</td>\n",
       "      <td>2.0</td>\n",
       "    </tr>\n",
       "    <tr>\n",
       "      <th>4</th>\n",
       "      <td>4</td>\n",
       "      <td>1</td>\n",
       "      <td>1_229</td>\n",
       "      <td>i am totally agree with the statement that tig...</td>\n",
       "      <td>3.0</td>\n",
       "    </tr>\n",
       "    <tr>\n",
       "      <th>...</th>\n",
       "      <td>...</td>\n",
       "      <td>...</td>\n",
       "      <td>...</td>\n",
       "      <td>...</td>\n",
       "      <td>...</td>\n",
       "    </tr>\n",
       "    <tr>\n",
       "      <th>1235</th>\n",
       "      <td>1235</td>\n",
       "      <td>5</td>\n",
       "      <td>5_419</td>\n",
       "      <td>The entire world is in the race of producing a...</td>\n",
       "      <td>3.0</td>\n",
       "    </tr>\n",
       "    <tr>\n",
       "      <th>1236</th>\n",
       "      <td>1236</td>\n",
       "      <td>5</td>\n",
       "      <td>5_420</td>\n",
       "      <td>The race in the development of weapons are pro...</td>\n",
       "      <td>2.5</td>\n",
       "    </tr>\n",
       "    <tr>\n",
       "      <th>1237</th>\n",
       "      <td>1237</td>\n",
       "      <td>5</td>\n",
       "      <td>5_421</td>\n",
       "      <td>In an era where every second person hopes and ...</td>\n",
       "      <td>4.0</td>\n",
       "    </tr>\n",
       "    <tr>\n",
       "      <th>1238</th>\n",
       "      <td>1238</td>\n",
       "      <td>5</td>\n",
       "      <td>5_422</td>\n",
       "      <td>INTRODUCTION :Since the beginning of the time ...</td>\n",
       "      <td>3.0</td>\n",
       "    </tr>\n",
       "    <tr>\n",
       "      <th>1239</th>\n",
       "      <td>1239</td>\n",
       "      <td>5</td>\n",
       "      <td>5_423</td>\n",
       "      <td>\"To conquer a nation, first disarm its citizen...</td>\n",
       "      <td>4.5</td>\n",
       "    </tr>\n",
       "  </tbody>\n",
       "</table>\n",
       "<p>1240 rows × 5 columns</p>\n",
       "</div>"
      ],
      "text/plain": [
       "      Unnamed: 0  promptId uniqueId  \\\n",
       "0              0         1    1_323   \n",
       "1              1         1    1_238   \n",
       "2              2         1    1_212   \n",
       "3              3         1    1_117   \n",
       "4              4         1    1_229   \n",
       "...          ...       ...      ...   \n",
       "1235        1235         5    5_419   \n",
       "1236        1236         5    5_420   \n",
       "1237        1237         5    5_421   \n",
       "1238        1238         5    5_422   \n",
       "1239        1239         5    5_423   \n",
       "\n",
       "                                                  essay  evaluator_rating  \n",
       "0     At present age, our education system is not go...               3.0  \n",
       "1     I am agree the tightly defined curriculum of o...               4.0  \n",
       "2     I strongly agree with the statement that tight...               2.0  \n",
       "3     Our education system is nice quitely but i dis...               2.0  \n",
       "4     i am totally agree with the statement that tig...               3.0  \n",
       "...                                                 ...               ...  \n",
       "1235  The entire world is in the race of producing a...               3.0  \n",
       "1236  The race in the development of weapons are pro...               2.5  \n",
       "1237  In an era where every second person hopes and ...               4.0  \n",
       "1238  INTRODUCTION :Since the beginning of the time ...               3.0  \n",
       "1239  \"To conquer a nation, first disarm its citizen...               4.5  \n",
       "\n",
       "[1240 rows x 5 columns]"
      ]
     },
     "execution_count": 4,
     "metadata": {},
     "output_type": "execute_result"
    }
   ],
   "source": [
    "train"
   ]
  },
  {
   "cell_type": "code",
   "execution_count": 5,
   "id": "7e6b711f",
   "metadata": {},
   "outputs": [
    {
     "data": {
      "text/html": [
       "<div>\n",
       "<style scoped>\n",
       "    .dataframe tbody tr th:only-of-type {\n",
       "        vertical-align: middle;\n",
       "    }\n",
       "\n",
       "    .dataframe tbody tr th {\n",
       "        vertical-align: top;\n",
       "    }\n",
       "\n",
       "    .dataframe thead th {\n",
       "        text-align: right;\n",
       "    }\n",
       "</style>\n",
       "<table border=\"1\" class=\"dataframe\">\n",
       "  <thead>\n",
       "    <tr style=\"text-align: right;\">\n",
       "      <th></th>\n",
       "      <th>Unnamed: 0</th>\n",
       "      <th>promptId</th>\n",
       "      <th>evaluator_rating</th>\n",
       "    </tr>\n",
       "  </thead>\n",
       "  <tbody>\n",
       "    <tr>\n",
       "      <th>count</th>\n",
       "      <td>1240.000000</td>\n",
       "      <td>1240.000000</td>\n",
       "      <td>1240.000000</td>\n",
       "    </tr>\n",
       "    <tr>\n",
       "      <th>mean</th>\n",
       "      <td>619.500000</td>\n",
       "      <td>2.828226</td>\n",
       "      <td>2.684274</td>\n",
       "    </tr>\n",
       "    <tr>\n",
       "      <th>std</th>\n",
       "      <td>358.101475</td>\n",
       "      <td>1.468642</td>\n",
       "      <td>1.082603</td>\n",
       "    </tr>\n",
       "    <tr>\n",
       "      <th>min</th>\n",
       "      <td>0.000000</td>\n",
       "      <td>1.000000</td>\n",
       "      <td>0.000000</td>\n",
       "    </tr>\n",
       "    <tr>\n",
       "      <th>25%</th>\n",
       "      <td>309.750000</td>\n",
       "      <td>2.000000</td>\n",
       "      <td>2.000000</td>\n",
       "    </tr>\n",
       "    <tr>\n",
       "      <th>50%</th>\n",
       "      <td>619.500000</td>\n",
       "      <td>3.000000</td>\n",
       "      <td>3.000000</td>\n",
       "    </tr>\n",
       "    <tr>\n",
       "      <th>75%</th>\n",
       "      <td>929.250000</td>\n",
       "      <td>5.000000</td>\n",
       "      <td>3.500000</td>\n",
       "    </tr>\n",
       "    <tr>\n",
       "      <th>max</th>\n",
       "      <td>1239.000000</td>\n",
       "      <td>5.000000</td>\n",
       "      <td>5.000000</td>\n",
       "    </tr>\n",
       "  </tbody>\n",
       "</table>\n",
       "</div>"
      ],
      "text/plain": [
       "        Unnamed: 0     promptId  evaluator_rating\n",
       "count  1240.000000  1240.000000       1240.000000\n",
       "mean    619.500000     2.828226          2.684274\n",
       "std     358.101475     1.468642          1.082603\n",
       "min       0.000000     1.000000          0.000000\n",
       "25%     309.750000     2.000000          2.000000\n",
       "50%     619.500000     3.000000          3.000000\n",
       "75%     929.250000     5.000000          3.500000\n",
       "max    1239.000000     5.000000          5.000000"
      ]
     },
     "execution_count": 5,
     "metadata": {},
     "output_type": "execute_result"
    }
   ],
   "source": [
    "train.describe()"
   ]
  },
  {
   "cell_type": "code",
   "execution_count": 6,
   "id": "d4a7f43f",
   "metadata": {},
   "outputs": [
    {
     "name": "stdout",
     "output_type": "stream",
     "text": [
      "<class 'pandas.core.frame.DataFrame'>\n",
      "RangeIndex: 1240 entries, 0 to 1239\n",
      "Data columns (total 5 columns):\n",
      " #   Column            Non-Null Count  Dtype  \n",
      "---  ------            --------------  -----  \n",
      " 0   Unnamed: 0        1240 non-null   int64  \n",
      " 1   promptId          1240 non-null   int64  \n",
      " 2   uniqueId          1240 non-null   object \n",
      " 3   essay             1240 non-null   object \n",
      " 4   evaluator_rating  1240 non-null   float64\n",
      "dtypes: float64(1), int64(2), object(2)\n",
      "memory usage: 48.6+ KB\n"
     ]
    }
   ],
   "source": [
    "train.info()"
   ]
  },
  {
   "cell_type": "code",
   "execution_count": 7,
   "id": "d5a2f45e",
   "metadata": {},
   "outputs": [
    {
     "data": {
      "text/plain": [
       "Index(['Unnamed: 0', 'promptId', 'uniqueId', 'essay', 'evaluator_rating'], dtype='object')"
      ]
     },
     "execution_count": 7,
     "metadata": {},
     "output_type": "execute_result"
    }
   ],
   "source": [
    "train.columns"
   ]
  },
  {
   "cell_type": "code",
   "execution_count": 8,
   "id": "faa72a80",
   "metadata": {},
   "outputs": [
    {
     "data": {
      "text/plain": [
       "array([1, 2, 3, 5], dtype=int64)"
      ]
     },
     "execution_count": 8,
     "metadata": {},
     "output_type": "execute_result"
    }
   ],
   "source": [
    "train.promptId.unique()"
   ]
  },
  {
   "cell_type": "code",
   "execution_count": 9,
   "id": "6a55c168",
   "metadata": {},
   "outputs": [
    {
     "data": {
      "text/plain": [
       "Unnamed: 0          0\n",
       "promptId            0\n",
       "uniqueId            0\n",
       "essay               0\n",
       "evaluator_rating    0\n",
       "dtype: int64"
      ]
     },
     "execution_count": 9,
     "metadata": {},
     "output_type": "execute_result"
    }
   ],
   "source": [
    "train.isnull().sum()"
   ]
  },
  {
   "cell_type": "code",
   "execution_count": 10,
   "id": "4b573d48",
   "metadata": {},
   "outputs": [
    {
     "data": {
      "text/plain": [
       "array([3. , 4. , 2. , 2.5, 0.5, 3.5, 0. , 4.5, 1. , 1.5, 5. ])"
      ]
     },
     "execution_count": 10,
     "metadata": {},
     "output_type": "execute_result"
    }
   ],
   "source": [
    "train.evaluator_rating.unique()"
   ]
  },
  {
   "cell_type": "code",
   "execution_count": 11,
   "id": "8676fda8",
   "metadata": {},
   "outputs": [
    {
     "data": {
      "text/plain": [
       "<AxesSubplot:xlabel='uniqueId', ylabel='evaluator_rating'>"
      ]
     },
     "execution_count": 11,
     "metadata": {},
     "output_type": "execute_result"
    },
    {
     "data": {
      "image/png": "[encoded data removed]",
      "text/plain": [
       "<Figure size 432x288 with 1 Axes>"
      ]
     },
     "metadata": {
      "needs_background": "light"
     },
     "output_type": "display_data"
    }
   ],
   "source": [
    "sns.barplot (x = 'uniqueId', y = 'evaluator_rating',data = train)"
   ]
  },
  {
   "cell_type": "code",
   "execution_count": 12,
   "id": "fbb6c616",
   "metadata": {},
   "outputs": [
    {
     "data": {
      "text/html": [
       "<div>\n",
       "<style scoped>\n",
       "    .dataframe tbody tr th:only-of-type {\n",
       "        vertical-align: middle;\n",
       "    }\n",
       "\n",
       "    .dataframe tbody tr th {\n",
       "        vertical-align: top;\n",
       "    }\n",
       "\n",
       "    .dataframe thead th {\n",
       "        text-align: right;\n",
       "    }\n",
       "</style>\n",
       "<table border=\"1\" class=\"dataframe\">\n",
       "  <thead>\n",
       "    <tr style=\"text-align: right;\">\n",
       "      <th></th>\n",
       "      <th>Unnamed: 0</th>\n",
       "      <th>promptId</th>\n",
       "      <th>prompt_question</th>\n",
       "    </tr>\n",
       "  </thead>\n",
       "  <tbody>\n",
       "    <tr>\n",
       "      <th>0</th>\n",
       "      <td>0</td>\n",
       "      <td>1</td>\n",
       "      <td>The tight curriculum of our education system l...</td>\n",
       "    </tr>\n",
       "    <tr>\n",
       "      <th>1</th>\n",
       "      <td>1</td>\n",
       "      <td>2</td>\n",
       "      <td>Our society is disrupted by the ever-widening ...</td>\n",
       "    </tr>\n",
       "    <tr>\n",
       "      <th>2</th>\n",
       "      <td>2</td>\n",
       "      <td>3</td>\n",
       "      <td>Has technology become a new addiction? Have we...</td>\n",
       "    </tr>\n",
       "    <tr>\n",
       "      <th>3</th>\n",
       "      <td>4</td>\n",
       "      <td>5</td>\n",
       "      <td>In the nuclear age, the production and develop...</td>\n",
       "    </tr>\n",
       "  </tbody>\n",
       "</table>\n",
       "</div>"
      ],
      "text/plain": [
       "   Unnamed: 0  promptId                                    prompt_question\n",
       "0           0         1  The tight curriculum of our education system l...\n",
       "1           1         2  Our society is disrupted by the ever-widening ...\n",
       "2           2         3  Has technology become a new addiction? Have we...\n",
       "3           4         5  In the nuclear age, the production and develop..."
      ]
     },
     "execution_count": 12,
     "metadata": {},
     "output_type": "execute_result"
    }
   ],
   "source": [
    "prompts = pd.read_csv('all_prompts.csv')\n",
    "prompts"
   ]
  },
  {
   "cell_type": "code",
   "execution_count": 13,
   "id": "cc0e42c7",
   "metadata": {},
   "outputs": [
    {
     "data": {
      "text/plain": [
       "\"I am agree the tightly defined curriculum of our education system leaves no room for imagination and creativity.A hidden curriculum can be defined as the lesson that are taught informally,and usually unintentionally in the school and colleges. These include behaviour ,perspectives and attitudes that students pick up while they are at school.This is contrasted with the formal curriculum,such as the courses and activities students participate in,The curriculum began early in the child's education. Students learn to form opinion and ideas about their environment and their classmate.They also learn what is expected of them.These attitudes and ideas are not taught in formal way,but kids absorb them through natural observation and participation in classroom more and more and also participate in social activities.Areas of hidden curriculum in our school that mold perspectives of students deal with issues such as gender,morals,social class,politics and language.Many books and magzine which are related to expected nature at this young age support the idea of today's sepration which are encourage the youths.The importance of boy athletes used to be clear example of hidden curriculum.Student imagination and creativity are also developed by some other activities.Education is the process of facilitating learning,kowledge,skills,belief and habits.Education can take place in formal or informal setting an any experience that has a formative effect on the way one think,feels and acts may be considered educational.Education is more important for every students and children.The influence of this can lead to a negative self image or hatred for reading.These researchers discuss how the student increase the knowledge related to nature and many others areas.Their goal has been to raise the general awareness of hidden education curriculum in our school in order to make education system progressive and accessible to students of all culture ,linguistic and many other areeas which are related to ediucation system.The\""
      ]
     },
     "execution_count": 13,
     "metadata": {},
     "output_type": "execute_result"
    }
   ],
   "source": [
    "train['essay'][1]"
   ]
  },
  {
   "cell_type": "code",
   "execution_count": 14,
   "id": "d8411c75",
   "metadata": {},
   "outputs": [
    {
     "data": {
      "text/plain": [
       "\"yeah, I think it is partiality correct .Because some of the school or college provide this ficility to student for their cretivity and inventing new idea. Now a days our education became a compition maximum of student onlyfocus on how to get gretter marks instade of learning the hole thing. In our society a student is enforce to getting greater marks. Maximum of our parents create presure their child to get good marks in the examination. For this reason a student cant do what ever he want to do,can'tfocus his interesting subject. He can't thing because our education systemdoesnot provide the time for they can be thinking.And does not support the idea created by a student. When a student invent a new idea and tell us at first we tell him its impossible instade fo motivate them.We must be provide time for student can think. We must be modivate a student instade fo demotivate them and support their idea . if we think about 10 years ago there wan no computers, moibile, television etc. It is invented by several scientist by researching dedication and give their valuable time on to those particular ideas which was they created at first their mind.\""
      ]
     },
     "execution_count": 14,
     "metadata": {},
     "output_type": "execute_result"
    }
   ],
   "source": [
    "train['essay'][120]"
   ]
  },
  {
   "cell_type": "code",
   "execution_count": 15,
   "id": "1894bb31",
   "metadata": {},
   "outputs": [
    {
     "data": {
      "text/html": [
       "<div>\n",
       "<style scoped>\n",
       "    .dataframe tbody tr th:only-of-type {\n",
       "        vertical-align: middle;\n",
       "    }\n",
       "\n",
       "    .dataframe tbody tr th {\n",
       "        vertical-align: top;\n",
       "    }\n",
       "\n",
       "    .dataframe thead th {\n",
       "        text-align: right;\n",
       "    }\n",
       "</style>\n",
       "<table border=\"1\" class=\"dataframe\">\n",
       "  <thead>\n",
       "    <tr style=\"text-align: right;\">\n",
       "      <th></th>\n",
       "      <th>Unnamed: 0</th>\n",
       "      <th>promptId</th>\n",
       "      <th>uniqueId</th>\n",
       "      <th>essay</th>\n",
       "      <th>evaluator_rating</th>\n",
       "    </tr>\n",
       "  </thead>\n",
       "  <tbody>\n",
       "    <tr>\n",
       "      <th>0</th>\n",
       "      <td>0</td>\n",
       "      <td>1</td>\n",
       "      <td>1_323</td>\n",
       "      <td>At present age, our education system is not go...</td>\n",
       "      <td>3.0</td>\n",
       "    </tr>\n",
       "    <tr>\n",
       "      <th>1</th>\n",
       "      <td>1</td>\n",
       "      <td>1</td>\n",
       "      <td>1_238</td>\n",
       "      <td>I am agree the tightly defined curriculum of o...</td>\n",
       "      <td>4.0</td>\n",
       "    </tr>\n",
       "    <tr>\n",
       "      <th>2</th>\n",
       "      <td>2</td>\n",
       "      <td>1</td>\n",
       "      <td>1_212</td>\n",
       "      <td>I strongly agree with the statement that tight...</td>\n",
       "      <td>2.0</td>\n",
       "    </tr>\n",
       "    <tr>\n",
       "      <th>3</th>\n",
       "      <td>3</td>\n",
       "      <td>1</td>\n",
       "      <td>1_117</td>\n",
       "      <td>Our education system is nice quitely but i dis...</td>\n",
       "      <td>2.0</td>\n",
       "    </tr>\n",
       "    <tr>\n",
       "      <th>4</th>\n",
       "      <td>4</td>\n",
       "      <td>1</td>\n",
       "      <td>1_229</td>\n",
       "      <td>i am totally agree with the statement that tig...</td>\n",
       "      <td>3.0</td>\n",
       "    </tr>\n",
       "    <tr>\n",
       "      <th>...</th>\n",
       "      <td>...</td>\n",
       "      <td>...</td>\n",
       "      <td>...</td>\n",
       "      <td>...</td>\n",
       "      <td>...</td>\n",
       "    </tr>\n",
       "    <tr>\n",
       "      <th>1235</th>\n",
       "      <td>1235</td>\n",
       "      <td>5</td>\n",
       "      <td>5_419</td>\n",
       "      <td>The entire world is in the race of producing a...</td>\n",
       "      <td>3.0</td>\n",
       "    </tr>\n",
       "    <tr>\n",
       "      <th>1236</th>\n",
       "      <td>1236</td>\n",
       "      <td>5</td>\n",
       "      <td>5_420</td>\n",
       "      <td>The race in the development of weapons are pro...</td>\n",
       "      <td>2.5</td>\n",
       "    </tr>\n",
       "    <tr>\n",
       "      <th>1237</th>\n",
       "      <td>1237</td>\n",
       "      <td>5</td>\n",
       "      <td>5_421</td>\n",
       "      <td>In an era where every second person hopes and ...</td>\n",
       "      <td>4.0</td>\n",
       "    </tr>\n",
       "    <tr>\n",
       "      <th>1238</th>\n",
       "      <td>1238</td>\n",
       "      <td>5</td>\n",
       "      <td>5_422</td>\n",
       "      <td>INTRODUCTION :Since the beginning of the time ...</td>\n",
       "      <td>3.0</td>\n",
       "    </tr>\n",
       "    <tr>\n",
       "      <th>1239</th>\n",
       "      <td>1239</td>\n",
       "      <td>5</td>\n",
       "      <td>5_423</td>\n",
       "      <td>\"To conquer a nation, first disarm its citizen...</td>\n",
       "      <td>4.5</td>\n",
       "    </tr>\n",
       "  </tbody>\n",
       "</table>\n",
       "<p>1240 rows × 5 columns</p>\n",
       "</div>"
      ],
      "text/plain": [
       "      Unnamed: 0  promptId uniqueId  \\\n",
       "0              0         1    1_323   \n",
       "1              1         1    1_238   \n",
       "2              2         1    1_212   \n",
       "3              3         1    1_117   \n",
       "4              4         1    1_229   \n",
       "...          ...       ...      ...   \n",
       "1235        1235         5    5_419   \n",
       "1236        1236         5    5_420   \n",
       "1237        1237         5    5_421   \n",
       "1238        1238         5    5_422   \n",
       "1239        1239         5    5_423   \n",
       "\n",
       "                                                  essay  evaluator_rating  \n",
       "0     At present age, our education system is not go...               3.0  \n",
       "1     I am agree the tightly defined curriculum of o...               4.0  \n",
       "2     I strongly agree with the statement that tight...               2.0  \n",
       "3     Our education system is nice quitely but i dis...               2.0  \n",
       "4     i am totally agree with the statement that tig...               3.0  \n",
       "...                                                 ...               ...  \n",
       "1235  The entire world is in the race of producing a...               3.0  \n",
       "1236  The race in the development of weapons are pro...               2.5  \n",
       "1237  In an era where every second person hopes and ...               4.0  \n",
       "1238  INTRODUCTION :Since the beginning of the time ...               3.0  \n",
       "1239  \"To conquer a nation, first disarm its citizen...               4.5  \n",
       "\n",
       "[1240 rows x 5 columns]"
      ]
     },
     "execution_count": 15,
     "metadata": {},
     "output_type": "execute_result"
    }
   ],
   "source": [
    "train"
   ]
  },
  {
   "cell_type": "code",
   "execution_count": 16,
   "id": "e40e70df",
   "metadata": {},
   "outputs": [
    {
     "data": {
      "text/html": [
       "<div>\n",
       "<style scoped>\n",
       "    .dataframe tbody tr th:only-of-type {\n",
       "        vertical-align: middle;\n",
       "    }\n",
       "\n",
       "    .dataframe tbody tr th {\n",
       "        vertical-align: top;\n",
       "    }\n",
       "\n",
       "    .dataframe thead th {\n",
       "        text-align: right;\n",
       "    }\n",
       "</style>\n",
       "<table border=\"1\" class=\"dataframe\">\n",
       "  <thead>\n",
       "    <tr style=\"text-align: right;\">\n",
       "      <th></th>\n",
       "      <th>Unnamed: 0</th>\n",
       "      <th>promptId</th>\n",
       "      <th>uniqueId</th>\n",
       "      <th>essay</th>\n",
       "    </tr>\n",
       "  </thead>\n",
       "  <tbody>\n",
       "    <tr>\n",
       "      <th>0</th>\n",
       "      <td>0</td>\n",
       "      <td>1</td>\n",
       "      <td>1_315</td>\n",
       "      <td>Curriculum has been adopted in many schools. T...</td>\n",
       "    </tr>\n",
       "    <tr>\n",
       "      <th>1</th>\n",
       "      <td>1</td>\n",
       "      <td>1</td>\n",
       "      <td>1_214</td>\n",
       "      <td>I strongly agree with the statement ,  The tig...</td>\n",
       "    </tr>\n",
       "    <tr>\n",
       "      <th>2</th>\n",
       "      <td>2</td>\n",
       "      <td>1</td>\n",
       "      <td>1_196</td>\n",
       "      <td>Imagination and creativity is the most importa...</td>\n",
       "    </tr>\n",
       "    <tr>\n",
       "      <th>3</th>\n",
       "      <td>3</td>\n",
       "      <td>1</td>\n",
       "      <td>1_178</td>\n",
       "      <td>In our eduction system leaves no room for imag...</td>\n",
       "    </tr>\n",
       "    <tr>\n",
       "      <th>4</th>\n",
       "      <td>4</td>\n",
       "      <td>1</td>\n",
       "      <td>1_201</td>\n",
       "      <td>I will agree at some what extend, because if w...</td>\n",
       "    </tr>\n",
       "    <tr>\n",
       "      <th>...</th>\n",
       "      <td>...</td>\n",
       "      <td>...</td>\n",
       "      <td>...</td>\n",
       "      <td>...</td>\n",
       "    </tr>\n",
       "    <tr>\n",
       "      <th>300</th>\n",
       "      <td>300</td>\n",
       "      <td>5</td>\n",
       "      <td>5_146</td>\n",
       "      <td>Earth is a creation of God and everything that...</td>\n",
       "    </tr>\n",
       "    <tr>\n",
       "      <th>301</th>\n",
       "      <td>301</td>\n",
       "      <td>5</td>\n",
       "      <td>5_65</td>\n",
       "      <td>production of arms and weapons in this present...</td>\n",
       "    </tr>\n",
       "    <tr>\n",
       "      <th>302</th>\n",
       "      <td>302</td>\n",
       "      <td>5</td>\n",
       "      <td>5_151</td>\n",
       "      <td>Race to become more powerful can destroy the e...</td>\n",
       "    </tr>\n",
       "    <tr>\n",
       "      <th>303</th>\n",
       "      <td>303</td>\n",
       "      <td>5</td>\n",
       "      <td>5_404</td>\n",
       "      <td>In its attempt to harness the power of the ato...</td>\n",
       "    </tr>\n",
       "    <tr>\n",
       "      <th>304</th>\n",
       "      <td>304</td>\n",
       "      <td>5</td>\n",
       "      <td>5_360</td>\n",
       "      <td>Racein the production of arms and weapons in t...</td>\n",
       "    </tr>\n",
       "  </tbody>\n",
       "</table>\n",
       "<p>305 rows × 4 columns</p>\n",
       "</div>"
      ],
      "text/plain": [
       "     Unnamed: 0  promptId uniqueId  \\\n",
       "0             0         1    1_315   \n",
       "1             1         1    1_214   \n",
       "2             2         1    1_196   \n",
       "3             3         1    1_178   \n",
       "4             4         1    1_201   \n",
       "..          ...       ...      ...   \n",
       "300         300         5    5_146   \n",
       "301         301         5     5_65   \n",
       "302         302         5    5_151   \n",
       "303         303         5    5_404   \n",
       "304         304         5    5_360   \n",
       "\n",
       "                                                 essay  \n",
       "0    Curriculum has been adopted in many schools. T...  \n",
       "1    I strongly agree with the statement ,  The tig...  \n",
       "2    Imagination and creativity is the most importa...  \n",
       "3    In our eduction system leaves no room for imag...  \n",
       "4    I will agree at some what extend, because if w...  \n",
       "..                                                 ...  \n",
       "300  Earth is a creation of God and everything that...  \n",
       "301  production of arms and weapons in this present...  \n",
       "302  Race to become more powerful can destroy the e...  \n",
       "303  In its attempt to harness the power of the ato...  \n",
       "304  Racein the production of arms and weapons in t...  \n",
       "\n",
       "[305 rows x 4 columns]"
      ]
     },
     "execution_count": 16,
     "metadata": {},
     "output_type": "execute_result"
    }
   ],
   "source": [
    "test = pd.read_csv('test.csv')\n",
    "test"
   ]
  },
  {
   "cell_type": "code",
   "execution_count": 18,
   "id": "cbf07901",
   "metadata": {},
   "outputs": [
    {
     "ename": "NameError",
     "evalue": "name 'go' is not defined",
     "output_type": "error",
     "traceback": [
      "\u001b[1;31m---------------------------------------------------------------------------\u001b[0m",
      "\u001b[1;31mNameError\u001b[0m                                 Traceback (most recent call last)",
      "\u001b[1;32m<ipython-input-18-662593c7fabb>\u001b[0m in \u001b[0;36m<module>\u001b[1;34m\u001b[0m\n\u001b[0;32m      4\u001b[0m \u001b[0mcolors\u001b[0m \u001b[1;33m=\u001b[0m \u001b[0mtrain\u001b[0m\u001b[1;33m[\u001b[0m\u001b[1;34m'promptId'\u001b[0m\u001b[1;33m]\u001b[0m\u001b[1;33m\u001b[0m\u001b[1;33m\u001b[0m\u001b[0m\n\u001b[0;32m      5\u001b[0m \u001b[1;33m\u001b[0m\u001b[0m\n\u001b[1;32m----> 6\u001b[1;33m fig = go.Figure(data = [go.Pie(labels = labels, values = values, textinfo = \"label+percent\",\n\u001b[0m\u001b[0;32m      7\u001b[0m                               \u001b[0mmarker\u001b[0m \u001b[1;33m=\u001b[0m \u001b[0mdict\u001b[0m\u001b[1;33m(\u001b[0m\u001b[0mcolors\u001b[0m \u001b[1;33m=\u001b[0m \u001b[0mcolors\u001b[0m\u001b[1;33m,\u001b[0m \u001b[0mline\u001b[0m\u001b[1;33m=\u001b[0m\u001b[0mdict\u001b[0m\u001b[1;33m(\u001b[0m\u001b[0mcolor\u001b[0m\u001b[1;33m=\u001b[0m\u001b[1;34m'#000000'\u001b[0m\u001b[1;33m,\u001b[0m \u001b[0mwidth\u001b[0m\u001b[1;33m=\u001b[0m\u001b[1;36m2\u001b[0m\u001b[1;33m)\u001b[0m\u001b[1;33m)\u001b[0m\u001b[1;33m,\u001b[0m\u001b[1;33m\u001b[0m\u001b[1;33m\u001b[0m\u001b[0m\n\u001b[0;32m      8\u001b[0m                               title = \"Distribution of sets of essay\")])\n",
      "\u001b[1;31mNameError\u001b[0m: name 'go' is not defined"
     ]
    }
   ],
   "source": [
    "labels = train['promptId'].value_counts().index\n",
    "values = train['promptId'].value_counts().values\n",
    "\n",
    "colors = train['promptId']\n",
    "\n",
    "fig = go.Figure(data = [go.Pie(labels = labels, values = values, textinfo = \"label+percent\",\n",
    "                              marker = dict(colors = colors, line=dict(color='#000000', width=2)), \n",
    "                              title = \"Distribution of sets of essay\")])\n",
    "\n",
    "fig.show()"
   ]
  },
  {
   "cell_type": "code",
   "execution_count": null,
   "id": "4fcbdb99",
   "metadata": {},
   "outputs": [],
   "source": []
  }
 ],
 "metadata": {
  "kernelspec": {
   "display_name": "Python 3",
   "language": "python",
   "name": "python3"
  },
  "language_info": {
   "codemirror_mode": {
    "name": "ipython",
    "version": 3
   },
   "file_extension": ".py",
   "mimetype": "text/x-python",
   "name": "python",
   "nbconvert_exporter": "python",
   "pygments_lexer": "ipython3",
   "version": "3.8.8"
  }
 },
 "nbformat": 4,
 "nbformat_minor": 5
}
